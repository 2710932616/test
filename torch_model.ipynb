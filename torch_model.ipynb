{
 "metadata": {
  "language_info": {
   "codemirror_mode": {
    "name": "ipython",
    "version": 3
   },
   "file_extension": ".py",
   "mimetype": "text/x-python",
   "name": "python",
   "nbconvert_exporter": "python",
   "pygments_lexer": "ipython3",
   "version": "3.7.7-final"
  },
  "orig_nbformat": 2,
  "kernelspec": {
   "name": "Python 3.7.7 64-bit ('dl': conda)",
   "display_name": "Python 3.7.7 64-bit ('dl': conda)",
   "metadata": {
    "interpreter": {
     "hash": "85266a63b4ab5a6e7e2a80bd9674795f77b8c8055d5b5e1c18fcf783e51c9edd"
    }
   }
  }
 },
 "nbformat": 4,
 "nbformat_minor": 2,
 "cells": [
  {
   "cell_type": "code",
   "execution_count": 1,
   "metadata": {},
   "outputs": [],
   "source": [
    "import torch\n",
    "import torch.nn as nn\n",
    "from torch.nn import init\n",
    "import torch.nn.functional as F\n",
    "import torch.optim as optim\n",
    "\n",
    "import os\n",
    "from hashlib import sha256\n",
    "import numpy as np\n",
    "from PIL import Image\n",
    "from tqdm import tqdm\n",
    "\n",
    "from flag import FLAG"
   ]
  },
  {
   "cell_type": "code",
   "execution_count": 2,
   "metadata": {},
   "outputs": [],
   "source": [
    "assert torch.__version__ == '1.5.0'"
   ]
  },
  {
   "cell_type": "code",
   "execution_count": 3,
   "metadata": {},
   "outputs": [],
   "source": [
    "class XNUCA(nn.Module):\n",
    "    def __init__(self):\n",
    "        super(XNUCA, self).__init__()\n",
    "        self.conv1 = nn.Conv2d(3, 10, 9)\n",
    "        self.pool = nn.MaxPool2d(4, 4)\n",
    "        self.conv2 = nn.Conv2d(10, 20, 9)\n",
    "        self.fc1 = nn.Linear(20*29*29, 120)\n",
    "        self.fc2 = nn.Linear(120, 84)\n",
    "        self.fc3 = nn.Linear(84, 20)\n",
    "\n",
    "    def forward(self, x):\n",
    "        x = self.pool(F.relu(self.conv1(x)))\n",
    "        x = self.pool(F.relu(self.conv2(x)))\n",
    "        x = x.view(-1, 20*29*29)\n",
    "        x = F.relu(self.fc1(x))\n",
    "        x = F.relu(self.fc2(x))\n",
    "        x = self.fc3(x)\n",
    "        return x"
   ]
  },
  {
   "cell_type": "code",
   "execution_count": 4,
   "metadata": {},
   "outputs": [],
   "source": [
    "im = Image.open('tuanzi.jpg')\n",
    "im = im.resize((512, 512))\n",
    "image = np.array(im, dtype=np.float32)\n",
    "\n",
    "# 正则化\n",
    "for dim in range(3):\n",
    "    mean = np.mean(image[:,:,dim])\n",
    "    std = np.std(image[:,:,dim])\n",
    "    image[:, :, dim] = ((image[:, :, dim] - mean) / std)\n",
    "\n",
    "image = np.swapaxes(image, 0, 2)\n",
    "image = np.swapaxes(image, 1, 2)\n",
    "\n",
    "x = torch.from_numpy(image)"
   ]
  },
  {
   "cell_type": "code",
   "execution_count": 5,
   "metadata": {},
   "outputs": [
    {
     "output_type": "stream",
     "name": "stdout",
     "text": [
      "40 ['0', '1', '2', '3', '4', '5', '6', '7', '8', '9', 'a', 'b', 'c', 'd', 'e', 'f']\n"
     ]
    }
   ],
   "source": [
    "print(len(FLAG), sorted(set(FLAG)))"
   ]
  },
  {
   "cell_type": "code",
   "execution_count": 6,
   "metadata": {},
   "outputs": [],
   "source": [
    "flag = bytes.fromhex(FLAG)\n",
    "assert sha256(flag).hexdigest() == '11718b50d7af796a61fcf8e8dcbbc046652b148d8e29bce44a01c5bcf24629e5'"
   ]
  },
  {
   "cell_type": "code",
   "execution_count": 7,
   "metadata": {},
   "outputs": [],
   "source": [
    "flag_output = list(flag)\n",
    "y = torch.tensor(flag_output, dtype=torch.float32).view(1, 20) / 255. - 0.5"
   ]
  },
  {
   "cell_type": "code",
   "execution_count": 8,
   "metadata": {},
   "outputs": [],
   "source": [
    "model = XNUCA()\n",
    "loss_func = nn.MSELoss()\n",
    "optimizer = optim.Adam(model.parameters())"
   ]
  },
  {
   "cell_type": "code",
   "execution_count": 9,
   "metadata": {
    "tags": []
   },
   "outputs": [
    {
     "output_type": "stream",
     "name": "stderr",
     "text": [
      "Loss 3.2474022940890237e-16: 100%|████████████| 500/500 [00:42<00:00, 11.68it/s]\n"
     ]
    }
   ],
   "source": [
    "with tqdm(total=500, ncols=80) as pbar:\n",
    "    for _ in range(500):\n",
    "        optimizer.zero_grad()\n",
    "        output = model(x.view(1, 3, 512, 512))\n",
    "        loss = loss_func(output, y)\n",
    "        loss.backward()\n",
    "        optimizer.step()\n",
    "\n",
    "        pbar.update(1)\n",
    "        pbar.set_description(\"Loss %s\" % loss.item())"
   ]
  },
  {
   "cell_type": "code",
   "execution_count": 10,
   "metadata": {},
   "outputs": [],
   "source": [
    "output = model(x.view(1, 3, 512, 512))\n",
    "ans = (output.detach().numpy()[0] + 0.5) * 255\n",
    "ans = list(map(int, map(round, ans)))"
   ]
  },
  {
   "cell_type": "code",
   "execution_count": 11,
   "metadata": {},
   "outputs": [],
   "source": [
    "assert ans == flag_output"
   ]
  },
  {
   "cell_type": "code",
   "execution_count": 12,
   "metadata": {
    "tags": []
   },
   "outputs": [
    {
     "output_type": "stream",
     "name": "stdout",
     "text": [
      "0x89\n0x4ef\n"
     ]
    }
   ],
   "source": [
    "torch.save(model.state_dict(), './model_state_dict.pt')"
   ]
  },
  {
   "cell_type": "code",
   "execution_count": 13,
   "metadata": {},
   "outputs": [],
   "source": [
    "with open('./model_state_dict.pt', \"rb+\") as f:\n",
    "    f.seek(0x89)\n",
    "    f.write(os.urandom(0x4ef-0x89))"
   ]
  },
  {
   "cell_type": "code",
   "execution_count": null,
   "metadata": {},
   "outputs": [],
   "source": []
  }
 ]
}